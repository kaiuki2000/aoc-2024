{
 "cells": [
  {
   "cell_type": "markdown",
   "metadata": {},
   "source": [
    "Part 1/2"
   ]
  },
  {
   "cell_type": "code",
   "execution_count": 47,
   "metadata": {},
   "outputs": [],
   "source": [
    "import time\n",
    "import re"
   ]
  },
  {
   "cell_type": "code",
   "execution_count": null,
   "metadata": {},
   "outputs": [
    {
     "name": "stdout",
     "output_type": "stream",
     "text": [
      "s1 = 156388521\n",
      "s2 = 75920122\n",
      "Python program executed in 2.992 ms\n"
     ]
    }
   ],
   "source": [
    "# Timer start\n",
    "start_time = time.perf_counter_ns()\n",
    "\n",
    "# Part 1\n",
    "text = \"\"\n",
    "with open('input.txt', 'r') as f:\n",
    "    for line in f: text += line.strip()\n",
    "pattern = r\"mul\\((\\d+),(\\d+)\\)\"\n",
    "matches = [(match.start(), tuple(map(int, match.groups()))) for match in re.finditer(pattern, text)]\n",
    "s1 = sum([match[1][0]*match[1][1] for match in matches])\n",
    "print(f\"s1 = {s1}\")\n",
    "\n",
    "# Part 2\n",
    "positions_do = [match.start() for match in re.finditer(r\"do\\(\\)\", text)]\n",
    "positions_dont = [match.start() for match in re.finditer(r\"don't\\(\\)\", text)]\n",
    "pos = sorted([-p for p in positions_dont] + positions_do, key=abs)\n",
    "\n",
    "s2 = 0\n",
    "for tup in matches:\n",
    "    tmp = sorted(pos + [tup[0]], key=abs)\n",
    "    if tmp.index(tup[0]) == 0 or tmp[tmp.index(tup[0]) - 1] > 0: # Default: \"do\\(\\)\".\n",
    "        s2 += tup[1][0]*tup[1][1]\n",
    "print(f\"s2 = {s2}\")\n",
    "\n",
    "# Timer ends\n",
    "end_time = time.perf_counter_ns()\n",
    "execution_time = end_time - start_time\n",
    "\n",
    "# Execution time\n",
    "print(f\"Python program executed in {execution_time*1e-6:.3f} ms\")"
   ]
  }
 ],
 "metadata": {
  "kernelspec": {
   "display_name": "aoc_venv",
   "language": "python",
   "name": "python3"
  },
  "language_info": {
   "codemirror_mode": {
    "name": "ipython",
    "version": 3
   },
   "file_extension": ".py",
   "mimetype": "text/x-python",
   "name": "python",
   "nbconvert_exporter": "python",
   "pygments_lexer": "ipython3",
   "version": "3.11.5"
  }
 },
 "nbformat": 4,
 "nbformat_minor": 2
}
