{
 "cells": [
  {
   "cell_type": "markdown",
   "metadata": {},
   "source": [
    "Part 1"
   ]
  },
  {
   "cell_type": "code",
   "execution_count": 380,
   "metadata": {},
   "outputs": [],
   "source": [
    "import numpy as np"
   ]
  },
  {
   "cell_type": "code",
   "execution_count": 381,
   "metadata": {},
   "outputs": [],
   "source": [
    "with open('input.txt') as f:\n",
    "    lines = [line.strip() for line in f.readlines()]\n",
    "    n = lines.index('')\n",
    "    grid = np.array([list(row) for row in lines[:n]], dtype=str)\n",
    "    directions = ''.join(lines[n+1:])"
   ]
  },
  {
   "cell_type": "code",
   "execution_count": 382,
   "metadata": {},
   "outputs": [
    {
     "name": "stdout",
     "output_type": "stream",
     "text": [
      "Part 1: 1511865\n"
     ]
    }
   ],
   "source": [
    "robot_position = next(((i, j) for i, row in enumerate(grid) \n",
    "                      for j, cell in enumerate(row) if cell == '@'))\n",
    "\n",
    "direction_moves = {'>': (0, 1), '<': (0, -1), '^': (-1, 0), 'v': (1, 0)}\n",
    "\n",
    "for direction in directions:\n",
    "    dr, dc = direction_moves[direction]\n",
    "    next_pos = (robot_position[0] + dr, robot_position[1] + dc)\n",
    "    \n",
    "    if grid[next_pos[0], next_pos[1]] == '.':\n",
    "        grid[robot_position[0], robot_position[1]], grid[next_pos[0], next_pos[1]] = '.', '@'\n",
    "        robot_position = next_pos\n",
    "    elif grid[next_pos[0], next_pos[1]] == 'O':\n",
    "        n_box = 1\n",
    "        box_pos = next_pos\n",
    "        \n",
    "        while True:\n",
    "            next_box = (box_pos[0] + dr, box_pos[1] + dc)\n",
    "            if grid[next_box[0], next_box[1]] == '#':\n",
    "                break\n",
    "            elif grid[next_box[0], next_box[1]] == 'O':\n",
    "                box_pos = next_box\n",
    "                n_box += 1\n",
    "                continue\n",
    "            elif grid[next_box[0], next_box[1]] == '.':\n",
    "                if direction in '<>':\n",
    "                    r, c = robot_position\n",
    "                    slice_range = slice(c, c+(n_box+1)+1) if direction=='>' else slice(c-(n_box+1), c+1)\n",
    "                    grid[r, slice_range] = np.roll(grid[r, slice_range], 1 if direction=='>' else -1)\n",
    "                else:\n",
    "                    r, c = robot_position\n",
    "                    cells = [grid[r, c]] + [grid[r+dr*(k+1), c] for k in range(n_box+1)]\n",
    "                    new_cells = np.roll(cells, 1)\n",
    "                    grid[r, c] = new_cells[0]\n",
    "                    for k in range(n_box+1):\n",
    "                        grid[r+dr*(k+1), c] = new_cells[k+1]\n",
    "                robot_position = (robot_position[0] + dr, robot_position[1] + dc)\n",
    "            break\n",
    "\n",
    "p1 = sum(100*i + j for i, row in enumerate(grid) \n",
    "         for j, cell in enumerate(row) if cell == 'O')\n",
    "print(f'Part 1: {p1}')"
   ]
  },
  {
   "cell_type": "markdown",
   "metadata": {},
   "source": [
    "Part 2"
   ]
  },
  {
   "cell_type": "code",
   "execution_count": 383,
   "metadata": {},
   "outputs": [],
   "source": [
    "with open('input.txt') as f:\n",
    "    lines = [line.strip() for line in f.readlines()]\n",
    "    n = lines.index('')\n",
    "    grid = np.array([list(row) for row in lines[:n]], dtype=str)\n",
    "    directions = ''.join(lines[n+1:])\n",
    "\n",
    "def transform_grid(grid):\n",
    "    # Convert single characters to pairs according to rules\n",
    "    transforms = {'#': '#'*2, 'O': '[]', '.': '.'*2, '@': '@.'}\n",
    "    return np.array([[c for pair in [transforms[cell] for cell in row] for c in pair] for row in grid])\n",
    "\n",
    "grid = transform_grid(grid)\n",
    "robot_position = next(((i, j) for i, row in enumerate(grid) \n",
    "                      for j, cell in enumerate(row) if cell == '@'))\n",
    "\n",
    "def print_grid(grid):\n",
    "    for row in grid:\n",
    "        print(''.join(row))"
   ]
  },
  {
   "cell_type": "code",
   "execution_count": 384,
   "metadata": {},
   "outputs": [
    {
     "name": "stdout",
     "output_type": "stream",
     "text": [
      "Part 2: 1519991\n"
     ]
    }
   ],
   "source": [
    "robot_position = next(((i, j) for i, row in enumerate(grid) \n",
    "                      for j, cell in enumerate(row) if cell == '@'))\n",
    "\n",
    "direction_moves = {'>': (0, 1), '<': (0, -1), '^': (-1, 0), 'v': (1, 0)}\n",
    "\n",
    "for direction in directions:\n",
    "    dr, dc = direction_moves[direction]\n",
    "    next_pos = (robot_position[0] + dr, robot_position[1] + dc)\n",
    "    \n",
    "    # Next point is empty - just move the robot.\n",
    "    if grid[next_pos[0], next_pos[1]] == '.':\n",
    "        grid[robot_position[0], robot_position[1]], grid[next_pos[0], next_pos[1]] = '.', '@'\n",
    "        robot_position = next_pos\n",
    "\n",
    "    # Horizontal movement is simple, just slight modification from the previous solution to account for wider boxes.\n",
    "    elif grid[next_pos[0], next_pos[1]] in '[]' and direction in '<>':\n",
    "        n_box = 1\n",
    "        box_pos = next_pos\n",
    "        \n",
    "        while True:\n",
    "            next_box = (box_pos[0] + 2*dr, box_pos[1] + 2*dc)\n",
    "            if box_pos[0] + 2*dr >= len(grid) or box_pos[1] + 2*dc >= len(grid[0]):\n",
    "                break\n",
    "            if grid[next_box[0], next_box[1]] == '#':\n",
    "                break\n",
    "            elif grid[next_box[0], next_box[1]] in '[]':\n",
    "                box_pos = next_box\n",
    "                n_box += 1\n",
    "                continue\n",
    "            elif grid[next_box[0], next_box[1]] == '.':\n",
    "                r, c = robot_position\n",
    "                slice_range = slice(c, c+(2*n_box+1)+1) if direction=='>' else slice(c-(2*n_box+1), c+1)\n",
    "                grid[r, slice_range] = np.roll(grid[r, slice_range], 1 if direction=='>' else -1)\n",
    "                robot_position = (robot_position[0] + dr, robot_position[1] + dc)\n",
    "            break\n",
    "\n",
    "    # Vertical movement is different, as one box might push '2' boxes, and those two might push '3', etc.\n",
    "    elif grid[next_pos[0], next_pos[1]] in '[]' and direction in '^v':\n",
    "        n_box = 1\n",
    "        box_pos_vec = [next_pos] # Vector of positions occupied by the boxes. (Boxes now occupy 2 cells.)\n",
    "\n",
    "        if grid[next_pos[0], next_pos[1]] == '[': box_pos_vec.append((next_pos[0], next_pos[1] + 1))\n",
    "        else: box_pos_vec.append((next_pos[0], next_pos[1] - 1))\n",
    "        \n",
    "        all_box_pos_vec = box_pos_vec.copy()\n",
    "\n",
    "        while True:\n",
    "            next_box_vec = sorted([(b_p[0] + dr, b_p[1] + dc) for b_p in box_pos_vec], key=lambda x: x[1])\n",
    "            c1 = 0\n",
    "            # Edge points\n",
    "            if grid[next_box_vec[0][0], next_box_vec[0][1]] == ']':\n",
    "                next_box_vec.append((next_box_vec[0][0], next_box_vec[0][1] - 1))\n",
    "                c1+=1\n",
    "            if grid[next_box_vec[-(1+c1)][0], next_box_vec[-(1+c1)][1]] == '[':\n",
    "                next_box_vec.append((next_box_vec[-(1+c1)][0], next_box_vec[-(1+c1)][1] + 1))\n",
    "            # Re-sort the list\n",
    "            next_box_vec = sorted(next_box_vec, key=lambda x: x[1])\n",
    "\n",
    "            # Remove leading and trailing '.'s from next_box_vec\n",
    "            while next_box_vec and grid[next_box_vec[0][0], next_box_vec[0][1]] == '.':\n",
    "                next_box_vec.pop(0)\n",
    "                # If list becomes empty, break the loop.\n",
    "                if not next_box_vec: break\n",
    "            while next_box_vec and grid[next_box_vec[-1][0], next_box_vec[-1][1]] == '.':\n",
    "                next_box_vec.pop(-1)\n",
    "                if not next_box_vec: break\n",
    "\n",
    "            # If any of the elements is '#', break.\n",
    "            if any(grid[n_b[0], n_b[1]] == '#' for n_b in next_box_vec):\n",
    "                break\n",
    "\n",
    "            # If we find other boxes, push them as well.\n",
    "            elif any(grid[n_b[0], n_b[1]] in '[]' for n_b in next_box_vec):\n",
    "                box_pos_vec = next_box_vec\n",
    "                n_box += 1\n",
    "                all_box_pos_vec.extend(box_pos_vec)\n",
    "                continue\n",
    "\n",
    "            # If we find empty cells, move the robot and the boxes.\n",
    "            else:\n",
    "                sorted_box_pos_vec = sorted(all_box_pos_vec, key=lambda x: x[0]) if direction == '^' else \\\n",
    "                                     sorted(all_box_pos_vec, key=lambda x: x[0], reverse=True)\n",
    "                for box_pos in sorted_box_pos_vec:\n",
    "                    if grid[box_pos[0], box_pos[1]] == '[': \n",
    "                        grid[box_pos[0] + dr, box_pos[1] + dc] = '['; grid[box_pos[0], box_pos[1]] = '.'\n",
    "                    elif grid[box_pos[0], box_pos[1]] == ']':\n",
    "                        grid[box_pos[0] + dr, box_pos[1] + dc] = ']'; grid[box_pos[0], box_pos[1]] = '.'\n",
    "                    else:\n",
    "                        grid[box_pos[0] + dr, box_pos[1] + dc] = '.'; grid[box_pos[0], box_pos[1]] = '.'\n",
    "\n",
    "                # Move the robot by 1 position.\n",
    "                grid[robot_position[0] + dr, robot_position[1] + dc] = '@'; grid[robot_position[0], robot_position[1]] = '.'\n",
    "                robot_position = (robot_position[0] + dr, robot_position[1] + dc)\n",
    "            break\n",
    "    else:\n",
    "        pass\n",
    "\n",
    "p2 = sum(100*i + j for i, row in enumerate(grid)\n",
    "            for j, cell in enumerate(row) if cell == '[')\n",
    "print(f'Part 2: {p2}')"
   ]
  },
  {
   "cell_type": "markdown",
   "metadata": {},
   "source": [
    "This is really messy, but I'm too lazy to clean it up."
   ]
  }
 ],
 "metadata": {
  "kernelspec": {
   "display_name": "aoc_venv",
   "language": "python",
   "name": "python3"
  },
  "language_info": {
   "codemirror_mode": {
    "name": "ipython",
    "version": 3
   },
   "file_extension": ".py",
   "mimetype": "text/x-python",
   "name": "python",
   "nbconvert_exporter": "python",
   "pygments_lexer": "ipython3",
   "version": "3.11.5"
  }
 },
 "nbformat": 4,
 "nbformat_minor": 2
}
