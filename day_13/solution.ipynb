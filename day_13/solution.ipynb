{
 "cells": [
  {
   "cell_type": "markdown",
   "metadata": {},
   "source": [
    "Part 1/2"
   ]
  },
  {
   "cell_type": "markdown",
   "metadata": {},
   "source": [
    "This problem was quite interesting. Initially, I considered the possibility that some linear systems might have no solution or infinitely many solutions, which could be determined by examining the matrix's determinant and rank. However, it turned out that all the systems were solvable and had unique solutions. As a result, I used `np.linalg.solve` to solve the systems of equations and verified that the solutions were integers."
   ]
  },
  {
   "cell_type": "code",
   "execution_count": 355,
   "metadata": {},
   "outputs": [
    {
     "name": "stdout",
     "output_type": "stream",
     "text": [
      "Total cost: 96787395375634\n"
     ]
    }
   ],
   "source": [
    "import re\n",
    "import numpy as np\n",
    "import math\n",
    "\n",
    "P = 1e13 # 0 - Part 1, 1e13 - Part 2\n",
    "\n",
    "with open('input.txt') as f:\n",
    "    data = f.read().splitlines()\n",
    "\n",
    "pattern_buttons = r\"Button\\s(\\w+):\\sX\\+(\\d+),\\sY\\+(\\d+)\"\n",
    "pattern_prize = r\"Prize:\\sX=(\\d+),\\sY=(\\d+)\"\n",
    "\n",
    "A_vec, b_vec = [], []\n",
    "A = []\n",
    "\n",
    "for line in data:\n",
    "    if not line:\n",
    "        continue\n",
    "\n",
    "    if match := re.match(pattern_buttons, line):\n",
    "        A.append(tuple(map(int, match.groups()[1:])))\n",
    "    elif match := re.match(pattern_prize, line):\n",
    "        A_vec.append(np.array(A).T)\n",
    "        A = []\n",
    "        b_vec.append(np.array([int(match.group(1)) + P, int(match.group(2)) + P]))\n",
    "\n",
    "cost = 0\n",
    "for matrix, b in zip(A_vec, b_vec):\n",
    "    sol = np.linalg.solve(matrix, b)\n",
    "    if all(math.isclose(x - round(x), 0, abs_tol=1e-3) for x in sol):\n",
    "        cost += 3 * sol[0] + 1 * sol[1]\n",
    "\n",
    "print(f\"Total cost: {int(cost)}\")"
   ]
  }
 ],
 "metadata": {
  "kernelspec": {
   "display_name": "aoc_venv",
   "language": "python",
   "name": "python3"
  },
  "language_info": {
   "codemirror_mode": {
    "name": "ipython",
    "version": 3
   },
   "file_extension": ".py",
   "mimetype": "text/x-python",
   "name": "python",
   "nbconvert_exporter": "python",
   "pygments_lexer": "ipython3",
   "version": "3.11.5"
  }
 },
 "nbformat": 4,
 "nbformat_minor": 2
}
