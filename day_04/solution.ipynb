{
 "cells": [
  {
   "cell_type": "markdown",
   "metadata": {},
   "source": [
    "Part 1"
   ]
  },
  {
   "cell_type": "code",
   "execution_count": null,
   "metadata": {},
   "outputs": [
    {
     "name": "stdout",
     "output_type": "stream",
     "text": [
      "2532\n"
     ]
    }
   ],
   "source": [
    "# I should look for a cleaner way to solve this problem - both parts!\n",
    "\n",
    "with open('input.txt') as f:\n",
    "    matrix = f.readlines()\n",
    "matrix = [row.strip() for row in matrix]\n",
    "\n",
    "def n_XMAS(matrix, m, n):\n",
    "    \"Takes position (m, n) as input and returns the number of 'XMAS' *diverging* from this position.\"\n",
    "    n_c = 0\n",
    "    # Check if the position is 'X'\n",
    "    if(matrix[m][n] != 'X'):\n",
    "        return 0\n",
    "    # Right, Down, Down-right, Down-left, Left, Up, Up-right, Up-left\n",
    "    try:\n",
    "        if(matrix[m][n+1] == 'M' and matrix[m][n+2] == 'A' and matrix[m][n+3] == 'S'): n_c += 1\n",
    "    except IndexError:\n",
    "        pass\n",
    "    try:\n",
    "        if(matrix[m+1][n] == 'M' and matrix[m+2][n] == 'A' and matrix[m+3][n] == 'S'): n_c += 1\n",
    "    except IndexError:\n",
    "        pass\n",
    "    try:\n",
    "        if(matrix[m+1][n+1] == 'M' and matrix[m+2][n+2] == 'A' and matrix[m+3][n+3] == 'S'): n_c += 1\n",
    "    except IndexError:\n",
    "        pass\n",
    "    try:\n",
    "        if(n-1 >= 0 and matrix[m+1][n-1] == 'M' and matrix[m+2][n-2] == 'A' and matrix[m+3][n-3] == 'S'): n_c += 1\n",
    "    except IndexError:\n",
    "        pass\n",
    "    try:\n",
    "        if(n-1 >= 0 and matrix[m][n-1] == 'M' and n-2 >= 0 and matrix[m][n-2] == 'A' and n-3 >= 0 and matrix[m][n-3] == 'S'): n_c += 1\n",
    "    except IndexError:\n",
    "        pass\n",
    "    try:\n",
    "        if(m-1 >= 0 and matrix[m-1][n] == 'M' and m-2 >= 0 and matrix[m-2][n] == 'A' and m-3 >= 0 and matrix[m-3][n] == 'S'): n_c += 1\n",
    "    except IndexError:\n",
    "        pass\n",
    "    try:\n",
    "        if(m-1 >= 0 and matrix[m-1][n+1] == 'M' and m-2 >= 0 and matrix[m-2][n+2] == 'A' and m-3 >= 0 and matrix[m-3][n+3] == 'S'): n_c += 1\n",
    "    except IndexError:\n",
    "        pass\n",
    "    try:\n",
    "        if(m-1 >= 0 and n-1 >= 0 and matrix[m-1][n-1] == 'M' and m-2 >= 0 and n-2 >= 0 and matrix[m-2][n-2] == 'A' and m-3 >= 0 and n-3 >= 0 and matrix[m-3][n-3] == 'S'): n_c += 1\n",
    "    except IndexError:\n",
    "        pass\n",
    "    return n_c\n",
    "    \n",
    "s1 = sum([n_XMAS(matrix, m, n) for m in range(len(matrix)) for n in range(len(matrix[0]))])\n",
    "print(s1)"
   ]
  },
  {
   "cell_type": "code",
   "execution_count": 68,
   "metadata": {},
   "outputs": [
    {
     "name": "stdout",
     "output_type": "stream",
     "text": [
      "1941\n"
     ]
    }
   ],
   "source": [
    "def n_MAS_MAS(matrix):\n",
    "    \"\"\"\n",
    "    Looks at every 3x3 submatrix and check if there's an 'X-MAS' pattern in it.\n",
    "    \"\"\"\n",
    "    # n_blocks = (len(matrix) - 2) * (len(matrix[0] - 2))\n",
    "    n_c = 0\n",
    "    for m in range(len(matrix) - 2):\n",
    "        for n in range(len(matrix[0]) - 2):\n",
    "            block = [row[n:n+3] for row in matrix[m:m+3]]\n",
    "            n_c += check_block(block)\n",
    "    return n_c\n",
    "\n",
    "def check_block(block):\n",
    "    \"\"\"\n",
    "    Check if the block has a cross-'MAS' pattern, e.g.:\n",
    "    'M.S\n",
    "     .A.\n",
    "     M.S'.\n",
    "    \"\"\"\n",
    "\n",
    "    # 1 - Down-Right\n",
    "    # 2 - Up-Right\n",
    "    if(block[0][0] == 'M' and block[1][1] == 'A' and block[2][2] == 'S' and block[2][0] == 'M' and block[1][1] == 'A' and block[0][2] == 'S'):\n",
    "        return 1\n",
    "\n",
    "    # 1 - Up-Left\n",
    "    # 2 - Up-Right\n",
    "    if(block[2][0] == 'M' and block[1][1] == 'A' and block[0][2] == 'S' and block[2][2] == 'M' and block[1][1] == 'A' and block[0][0] == 'S'):\n",
    "        return 1\n",
    "\n",
    "    # 1 - Down-Right\n",
    "    # 2 - Down-Left\n",
    "    if(block[0][0] == 'M' and block[1][1] == 'A' and block[2][2] == 'S' and block[0][2] == 'M' and block[1][1] == 'A' and block[2][0] == 'S'):\n",
    "        return 1\n",
    "\n",
    "    # 1 - Up-Left\n",
    "    # 2 - Down-Left\n",
    "    if(block[2][0] == 'S' and block[1][1] == 'A' and block[0][2] == 'M' and block[0][0] == 'S' and block[1][1] == 'A' and block[2][2] == 'M'):\n",
    "        return 1\n",
    "    \n",
    "    return 0\n",
    "\n",
    "s2 = n_MAS_MAS(matrix)\n",
    "print(s2)"
   ]
  }
 ],
 "metadata": {
  "kernelspec": {
   "display_name": "aoc_venv",
   "language": "python",
   "name": "python3"
  },
  "language_info": {
   "codemirror_mode": {
    "name": "ipython",
    "version": 3
   },
   "file_extension": ".py",
   "mimetype": "text/x-python",
   "name": "python",
   "nbconvert_exporter": "python",
   "pygments_lexer": "ipython3",
   "version": "3.11.5"
  }
 },
 "nbformat": 4,
 "nbformat_minor": 2
}
