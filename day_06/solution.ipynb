{
 "cells": [
  {
   "cell_type": "markdown",
   "metadata": {},
   "source": [
    "Part 1"
   ]
  },
  {
   "cell_type": "code",
   "execution_count": 1,
   "metadata": {},
   "outputs": [],
   "source": [
    "with open(\"input.txt\") as f: lines = f.read().splitlines()\n",
    "    \n",
    "guard = ['v', '^', '<', '>']\n",
    "rules = {'v': '<', '<': '^', '^': '>', '>': 'v'}\n",
    "\n",
    "initial_position = [(i, lines[i].find('^')) for i in range(len(lines)) if lines[i].find('^') != -1][0]"
   ]
  },
  {
   "cell_type": "code",
   "execution_count": 2,
   "metadata": {},
   "outputs": [],
   "source": [
    "def simulate_guard(initial_position, grid_map):\n",
    "    # Initial conditions/initialization of variables\n",
    "    direction = '^' # Initial direction of movement\n",
    "    unique_positions = set(); unique_positions.add(initial_position)\n",
    "    position = initial_position\n",
    "\n",
    "    # Counter to detect stuck cases\n",
    "    c = [0]\n",
    "\n",
    "    while(True):\n",
    "        c[0] += 1\n",
    "        x, y = position\n",
    "        match direction:\n",
    "            case '^':\n",
    "                x -= 1\n",
    "                if x < 0 or x > (len(grid_map) - 1): return (unique_positions, False) # Out of bounds check\n",
    "            case 'v':\n",
    "                x += 1\n",
    "                if x < 0 or x > (len(grid_map) - 1): return (unique_positions, False)\n",
    "            case '>':\n",
    "                y += 1\n",
    "                if y < 0 or y > (len(grid_map[0]) - 1): return (unique_positions, False)\n",
    "            case '<':\n",
    "                y -= 1\n",
    "                if y < 0 or y > (len(grid_map[0]) - 1): return (unique_positions, False)\n",
    "                    \n",
    "        if grid_map[x][y] != '#':\n",
    "            position = (x, y)\n",
    "            l_n = len(unique_positions)\n",
    "            unique_positions.add(position)\n",
    "            if len(unique_positions) > l_n: c[0] = 0 # Check if the position is already visited\n",
    "        else:\n",
    "            direction = rules[direction] # Change direction\n",
    "\n",
    "        if c[0] > len(grid_map): return (unique_positions, True) # Stuck case check"
   ]
  },
  {
   "cell_type": "code",
   "execution_count": 3,
   "metadata": {},
   "outputs": [
    {
     "name": "stdout",
     "output_type": "stream",
     "text": [
      "4559\n"
     ]
    }
   ],
   "source": [
    "s1 = len(simulate_guard(initial_position, lines)[0])\n",
    "print(s1)"
   ]
  },
  {
   "cell_type": "markdown",
   "metadata": {},
   "source": [
    "Part 2"
   ]
  },
  {
   "cell_type": "code",
   "execution_count": 4,
   "metadata": {},
   "outputs": [
    {
     "name": "stdout",
     "output_type": "stream",
     "text": [
      "1604\n"
     ]
    }
   ],
   "source": [
    "# Can go position by position and insert an obstruction. Then, check if the guard is stuck in a loop.\n",
    "# The input is a mere 130x130 grid, so we can just brute force it.\n",
    "# How to detect a loop? If no 'new' position is added to the set of unique positions, then the guard is stuck in a loop.\n",
    "# I consider it a loop if 'len(grid_map)' steps are taken without adding a new position to the set of unique positions.\n",
    "# I use this value to guarantee that the guard is stuck in a loop, and not just moving in a straight line. O(len(grid_map)) is enough.\n",
    "# This isn't very efficient, but it works for this input size.\n",
    "\n",
    "s2 = 0\n",
    "for i in range(len(lines)):\n",
    "    for j in range(len(lines[0]) - 1):\n",
    "        if lines[i][j] == '.':\n",
    "            lines[i] = lines[i][:j] + '#' + lines[i][j+1:]\n",
    "            s2 += simulate_guard(initial_position, lines)[1]\n",
    "            lines[i] = lines[i][:j] + '.' + lines[i][j+1:]\n",
    "print(s2)\n",
    "\n",
    "# A more elegant solution would've been to also store the direction, along the position, in the set of unique positions.\n",
    "# This way, if at any point the guard returns to a position with the same direction, we can be sure that it's stuck in a loop."
   ]
  }
 ],
 "metadata": {
  "kernelspec": {
   "display_name": "aoc_venv",
   "language": "python",
   "name": "python3"
  },
  "language_info": {
   "codemirror_mode": {
    "name": "ipython",
    "version": 3
   },
   "file_extension": ".py",
   "mimetype": "text/x-python",
   "name": "python",
   "nbconvert_exporter": "python",
   "pygments_lexer": "ipython3",
   "version": "3.11.5"
  }
 },
 "nbformat": 4,
 "nbformat_minor": 2
}
