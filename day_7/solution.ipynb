{
 "cells": [
  {
   "cell_type": "code",
   "execution_count": 83,
   "metadata": {},
   "outputs": [],
   "source": [
    "import re\n",
    "import itertools\n",
    "import time"
   ]
  },
  {
   "cell_type": "code",
   "execution_count": 84,
   "metadata": {},
   "outputs": [],
   "source": [
    "# Auxiliary function(s):\n",
    "def concatenate(a, b):\n",
    "    \"\"\"\n",
    "    Function to concatenate two ints, i.e., `concatenate(1, 2) == 12` (True).\n",
    "    \"\"\"\n",
    "    return int(str(a) + str(b))"
   ]
  },
  {
   "cell_type": "code",
   "execution_count": 85,
   "metadata": {},
   "outputs": [],
   "source": [
    "# Read the input file - This parses '3267: 81 40 27' to (3267, [81, 40, 27]).\n",
    "pattern = r'(\\d+): ((?:\\d+\\s*)+)'\n",
    "with open('input.txt') as f:\n",
    "    equations = [(int(x), list(map(int, y.split()))) for x, y in (re.match(pattern, line.strip()).groups() for line in f)]"
   ]
  },
  {
   "cell_type": "markdown",
   "metadata": {},
   "source": [
    "Part 1"
   ]
  },
  {
   "cell_type": "code",
   "execution_count": 86,
   "metadata": {},
   "outputs": [
    {
     "name": "stdout",
     "output_type": "stream",
     "text": [
      "1545311493300\n"
     ]
    }
   ],
   "source": [
    "s1 = 0\n",
    "for equation in equations:\n",
    "    sol, nums = equation\n",
    "    for operations in itertools.product('+*', repeat=len(nums)-1):\n",
    "        res = nums[0]\n",
    "        for num, operation in zip(nums[1:], operations):\n",
    "            res = res + num if operation == '+' else res * num\n",
    "        if res == sol:\n",
    "            s1 += res\n",
    "            break # No need to go over the rest of the operations, as we found a solution: `break`.\n",
    "print(s1)"
   ]
  },
  {
   "cell_type": "markdown",
   "metadata": {},
   "source": [
    "Part 2:"
   ]
  },
  {
   "cell_type": "code",
   "execution_count": 88,
   "metadata": {},
   "outputs": [
    {
     "name": "stdout",
     "output_type": "stream",
     "text": [
      "169122112716571\n",
      "Python program executed in 19727.825 ms\n"
     ]
    }
   ],
   "source": [
    "# Timer starts\n",
    "start_time = time.perf_counter_ns()\n",
    "\n",
    "# Same as 'Part 1', but with an additional operation '&'.\n",
    "s2 = 0\n",
    "for equation in equations:\n",
    "    sol, nums = equation\n",
    "    for operations in itertools.product('+*&', repeat=len(nums)-1):\n",
    "        res = nums[0]\n",
    "        for num, operation in zip(nums[1:], operations):\n",
    "            if operation == '+':\n",
    "                res += num\n",
    "            elif operation == '*':\n",
    "                res *= num\n",
    "            elif operation == '&':\n",
    "                res = concatenate(res, num)\n",
    "        if res == sol:\n",
    "            s2 += res\n",
    "            break\n",
    "print(s2)\n",
    "\n",
    "# Timer ends\n",
    "end_time = time.perf_counter_ns()\n",
    "execution_time = end_time - start_time\n",
    "\n",
    "# Execution time\n",
    "print(f\"Python program executed in {execution_time*1e-6:.3f} ms\")"
   ]
  }
 ],
 "metadata": {
  "kernelspec": {
   "display_name": "aoc_venv",
   "language": "python",
   "name": "python3"
  },
  "language_info": {
   "codemirror_mode": {
    "name": "ipython",
    "version": 3
   },
   "file_extension": ".py",
   "mimetype": "text/x-python",
   "name": "python",
   "nbconvert_exporter": "python",
   "pygments_lexer": "ipython3",
   "version": "3.11.5"
  }
 },
 "nbformat": 4,
 "nbformat_minor": 2
}
