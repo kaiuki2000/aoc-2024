{
 "cells": [
  {
   "cell_type": "code",
   "execution_count": 83,
   "metadata": {},
   "outputs": [],
   "source": [
    "from collections import defaultdict"
   ]
  },
  {
   "cell_type": "markdown",
   "metadata": {},
   "source": [
    "Part 1"
   ]
  },
  {
   "cell_type": "code",
   "execution_count": 84,
   "metadata": {},
   "outputs": [
    {
     "name": "stdout",
     "output_type": "stream",
     "text": [
      "143\n"
     ]
    }
   ],
   "source": [
    "with open(\"example.txt\") as f: lines = f.read().splitlines()\n",
    "    \n",
    "transform_rule = lambda s: tuple(map(int, s.split('|')))\n",
    "transform_page = lambda s: tuple(map(int, s.split(',')))\n",
    "\n",
    "rules = [transform_rule(rule) for rule in lines[:lines.index('')]]\n",
    "pages = [transform_page(page) for page in lines[lines.index('')+1:]]\n",
    "\n",
    "valid_rules = [[rule for rule in rules if all(element in page for element in rule)] for page in pages]\n",
    "\n",
    "def is_valid(page, i): # Index associated with the page: 'i'.\n",
    "    return all(page.index(rule[0]) < page.index(rule[1]) for rule in valid_rules[i])\n",
    "\n",
    "s1 = sum(page[len(page)//2] for i, page in enumerate(pages) if is_valid(page, i))\n",
    "print(s1)"
   ]
  },
  {
   "cell_type": "markdown",
   "metadata": {},
   "source": [
    "Part 2"
   ]
  },
  {
   "cell_type": "markdown",
   "metadata": {},
   "source": [
    "Could be solved with 'topological sort' algorithm. I guess I, indirectly, explored this assumption.\n",
    "Could I have used: `Deque()`?"
   ]
  },
  {
   "cell_type": "code",
   "execution_count": 86,
   "metadata": {},
   "outputs": [
    {
     "name": "stdout",
     "output_type": "stream",
     "text": [
      "123\n"
     ]
    }
   ],
   "source": [
    "s2 = -s1\n",
    "for i in range(len(valid_rules)):\n",
    "    d = defaultdict(int)\n",
    "    for rule in sorted(valid_rules[i]): d[rule[0]] += 1\n",
    "    c_list = list(dict(sorted(d.items(), key=lambda item: item[1], reverse=True)).keys()) # + [x for x in pages[i] if x not in d]\n",
    "    s2 += c_list[len(c_list)//2]\n",
    "print(s2)\n",
    "\n",
    "# '+ [x for x in pages[i] if x not in d]' is not necessary, as the rules specify all the elements to the right of each element.\n",
    "\n",
    "# *Method:*\n",
    "# *Logical assumptions: I assume all the pages CAN be fixed. Not only that, but the CORRECT sequence should be UNIQUE;\n",
    "# Otherwise, the puzzle wouldn't make sense (We're not able to decide on the right middle value if there are different possible CORRECT sequences.)*\n",
    "# The fact that the CORRECT sequence is unique must mean it is fully specificied, i.e.:\n",
    "# One must specify (in the rules) ALL the elements to the right of each individual element.\n",
    "# This means we can just look at which element has the most other elements to its right, and that must be the first element in the sequence.\n",
    "# Then, we can look at which element has the second most other elements to its right, and that must be the second element in the sequence, etc.\n",
    "# This can be used to ORDER the elements in the sequence, and then we can just take the middle element.\n",
    "\n",
    "# This would've been easier if I had considered BOTH elements to the RIGHT AND LEFT, since the beginning (not JUST the right)."
   ]
  }
 ],
 "metadata": {
  "kernelspec": {
   "display_name": "aoc_venv",
   "language": "python",
   "name": "python3"
  },
  "language_info": {
   "codemirror_mode": {
    "name": "ipython",
    "version": 3
   },
   "file_extension": ".py",
   "mimetype": "text/x-python",
   "name": "python",
   "nbconvert_exporter": "python",
   "pygments_lexer": "ipython3",
   "version": "3.11.5"
  }
 },
 "nbformat": 4,
 "nbformat_minor": 2
}
