{
 "cells": [
  {
   "cell_type": "markdown",
   "metadata": {},
   "source": [
    "Part 1/2:"
   ]
  },
  {
   "cell_type": "code",
   "execution_count": 11,
   "metadata": {},
   "outputs": [],
   "source": [
    "import time\n",
    "from collections import Counter"
   ]
  },
  {
   "cell_type": "code",
   "execution_count": 12,
   "metadata": {},
   "outputs": [
    {
     "name": "stdout",
     "output_type": "stream",
     "text": [
      "Final score = 1722302\n",
      "Final score = 20373490\n",
      "Python program executed in 6.317 ms\n"
     ]
    }
   ],
   "source": [
    "# Timer start\n",
    "start_time = time.perf_counter_ns()\n",
    "\n",
    "# *** Part 1 *** # \n",
    "l1, l2 = [], []\n",
    "with open('input.txt', 'r') as file:\n",
    "    for line in file:\n",
    "        ls = line.split()\n",
    "        l1.append(int(ls[0]))\n",
    "        l2.append(int(ls[1]))\n",
    "l1.sort()\n",
    "l2.sort()\n",
    "\n",
    "score = 0\n",
    "for i in range(len(l1)):\n",
    "    score += abs(l1[i] - l2[i])\n",
    "print(f'Final score = {score}')\n",
    "# *** Part 1 *** # \n",
    "\n",
    "# *** Part 2 *** # \n",
    "c1, c2 = Counter(l1), Counter(l2)\n",
    "\n",
    "s2 = 0\n",
    "for v in l1:\n",
    "    if v in l2:\n",
    "        s2 += c2[v] * v\n",
    "print(f'Final score = {s2}')\n",
    "# *** Part 2 *** # \n",
    "\n",
    "# Timer ends\n",
    "end_time = time.perf_counter_ns()\n",
    "execution_time = end_time - start_time\n",
    "\n",
    "# Execution time\n",
    "print(f\"Python program executed in {execution_time*1e-6:.3f} ms\")"
   ]
  }
 ],
 "metadata": {
  "kernelspec": {
   "display_name": "aoc_venv",
   "language": "python",
   "name": "python3"
  },
  "language_info": {
   "codemirror_mode": {
    "name": "ipython",
    "version": 3
   },
   "file_extension": ".py",
   "mimetype": "text/x-python",
   "name": "python",
   "nbconvert_exporter": "python",
   "pygments_lexer": "ipython3",
   "version": "3.11.5"
  }
 },
 "nbformat": 4,
 "nbformat_minor": 2
}
