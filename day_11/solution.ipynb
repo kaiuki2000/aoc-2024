{
 "cells": [
  {
   "cell_type": "markdown",
   "metadata": {},
   "source": [
    "**Part 1**: Simulating the full \"dynamics\" using a `list`."
   ]
  },
  {
   "cell_type": "markdown",
   "metadata": {},
   "source": [
    "Testing the advantage(s) of using a `deque` instead of a `list`:\n",
    "- First - ´deque´:"
   ]
  },
  {
   "cell_type": "code",
   "execution_count": 213,
   "metadata": {},
   "outputs": [],
   "source": [
    "from collections import deque\n",
    "\n",
    "def blink_p1(vec: deque) -> deque:\n",
    "    new_vec = deque()\n",
    "    for number in vec:\n",
    "        L = len(number)\n",
    "        if number == '0':\n",
    "            new_vec.appendleft('1')  # Appending to the start\n",
    "        elif L % 2 == 0:\n",
    "            first_half, second_half = number[:L // 2], number[L // 2:].lstrip('0') or '0'\n",
    "            new_vec.appendleft(second_half)\n",
    "            new_vec.appendleft(first_half)\n",
    "        else:\n",
    "            new_vec.appendleft(str(int(number) * 2024))\n",
    "    return new_vec"
   ]
  },
  {
   "cell_type": "code",
   "execution_count": 214,
   "metadata": {},
   "outputs": [
    {
     "name": "stdout",
     "output_type": "stream",
     "text": [
      "[Deque] Average Time: (78.34 ± 1.94) ms.\n"
     ]
    }
   ],
   "source": [
    "from collections import deque\n",
    "import numpy as np\n",
    "from time import perf_counter_ns\n",
    "\n",
    "with open('input.txt') as f:\n",
    "    data = deque(f.read().split())\n",
    "\n",
    "run_times = []\n",
    "\n",
    "for _ in range(100):\n",
    "    start_time = perf_counter_ns()\n",
    "    \n",
    "    # Part 1\n",
    "    temp_data = deque(data)  # Copy the deque\n",
    "    for _ in range(25): \n",
    "        temp_data = blink_p1(temp_data)\n",
    "    run_times.append(perf_counter_ns() - start_time)\n",
    "\n",
    "average_time = np.mean(run_times)\n",
    "std_dev_time = np.std(run_times)\n",
    "\n",
    "print(f'[Deque] Average Time: ({average_time * 1e-6:.2f} ± {std_dev_time * 1e-6:.2f}) ms.')"
   ]
  },
  {
   "cell_type": "code",
   "execution_count": 217,
   "metadata": {},
   "outputs": [
    {
     "name": "stdout",
     "output_type": "stream",
     "text": [
      "p1 = 183248.\n"
     ]
    }
   ],
   "source": [
    "print(f'p1 = {len(temp_data)}.')"
   ]
  },
  {
   "cell_type": "markdown",
   "metadata": {},
   "source": [
    "- Second - ´list´:"
   ]
  },
  {
   "cell_type": "markdown",
   "metadata": {},
   "source": [
    "Note that this comparison is not fair, since the `list` is being used in a way that is not optimal for this problem, *i.e.*, we're inserting elements at the beginning of the list, instead of simply appending them (at the end). However, it is still interesting to see how the `deque` performs in comparison to the `list` in this case."
   ]
  },
  {
   "cell_type": "code",
   "execution_count": 210,
   "metadata": {},
   "outputs": [],
   "source": [
    "def blink_p1(vec: list) -> list:\n",
    "    new_vec = []\n",
    "    for number in vec:\n",
    "        L = len(number)\n",
    "        if number == '0':\n",
    "            new_vec.insert(0, '1')  # Appending to the start\n",
    "        elif L % 2 == 0:\n",
    "            first_half, second_half = number[:L // 2], number[L // 2:].lstrip('0') or '0'\n",
    "            new_vec.insert(0, second_half)\n",
    "            new_vec.insert(0, first_half)\n",
    "        else:\n",
    "            new_vec.insert(0, str(int(number) * 2024))\n",
    "    return new_vec"
   ]
  },
  {
   "cell_type": "code",
   "execution_count": null,
   "metadata": {},
   "outputs": [],
   "source": [
    "import numpy as np\n",
    "\n",
    "with open('input.txt') as f:\n",
    "    data = f.read().split()\n",
    "\n",
    "run_times = []\n",
    "\n",
    "for _ in range(100):\n",
    "    start_time = perf_counter_ns()\n",
    "    \n",
    "    # Part 1\n",
    "    temp_data = data.copy()\n",
    "    for _ in range(25): \n",
    "        temp_data = blink_p1(temp_data)\n",
    "    run_times.append(perf_counter_ns() - start_time)\n",
    "\n",
    "average_time = np.mean(run_times)\n",
    "std_dev_time = np.std(run_times)\n",
    "\n",
    "print(f'[List] Average Time: ({average_time * 1e-6:.2f} ± {std_dev_time * 1e-6:.2f}) ms.')"
   ]
  },
  {
   "cell_type": "markdown",
   "metadata": {},
   "source": [
    "This takes longer than $4$ minutes to run, so I'm not going to run it here - point is to show the difference in performance between the two data structures, which is already clear from the results."
   ]
  },
  {
   "cell_type": "markdown",
   "metadata": {},
   "source": [
    "**Part 2**: Simplify (*i.e.*, make it less resource intensive) the \"simulation\" by using a `defaultdict` to store the 'count' of each number."
   ]
  },
  {
   "cell_type": "code",
   "execution_count": null,
   "metadata": {},
   "outputs": [],
   "source": [
    "from collections import defaultdict\n",
    "\n",
    "def blink_p2(d: defaultdict) -> defaultdict:\n",
    "    new_d = defaultdict(int)\n",
    "    for number, count in d.items():\n",
    "        L = len(number)\n",
    "        if number == '0':\n",
    "            new_d['1'] += count\n",
    "        elif L % 2 == 0:\n",
    "            first_half, second_half = number[:L // 2], number[L // 2:].lstrip('0') or '0'\n",
    "            new_d[first_half] += count\n",
    "            new_d[second_half] += count\n",
    "        else:\n",
    "            new_d[str(int(number) * 2024)] += count\n",
    "    return new_d"
   ]
  },
  {
   "cell_type": "code",
   "execution_count": null,
   "metadata": {},
   "outputs": [
    {
     "name": "stdout",
     "output_type": "stream",
     "text": [
      "p2 = 218811774248729.\n"
     ]
    }
   ],
   "source": [
    "with open('input.txt') as f:\n",
    "    data = f.read().split()\n",
    "\n",
    "# Part 2\n",
    "d = defaultdict(int, {number: data.count(number) for number in set(data)})\n",
    "for _ in range(75): d = blink_p2(d)\n",
    "print(f'p2 = {sum(d.values())}.')"
   ]
  }
 ],
 "metadata": {
  "kernelspec": {
   "display_name": "aoc_venv",
   "language": "python",
   "name": "python3"
  },
  "language_info": {
   "codemirror_mode": {
    "name": "ipython",
    "version": 3
   },
   "file_extension": ".py",
   "mimetype": "text/x-python",
   "name": "python",
   "nbconvert_exporter": "python",
   "pygments_lexer": "ipython3",
   "version": "3.11.5"
  }
 },
 "nbformat": 4,
 "nbformat_minor": 2
}
