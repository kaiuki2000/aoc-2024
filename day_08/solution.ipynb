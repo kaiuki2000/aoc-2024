{
 "cells": [
  {
   "cell_type": "code",
   "execution_count": 241,
   "metadata": {},
   "outputs": [],
   "source": [
    "from collections import defaultdict\n",
    "from itertools import combinations"
   ]
  },
  {
   "cell_type": "code",
   "execution_count": 242,
   "metadata": {},
   "outputs": [],
   "source": [
    "# Parsing input\n",
    "d = defaultdict(list) # {digit: [(i, j), ...]}\n",
    "with open('input.txt') as f:\n",
    "    for i, line in enumerate(f):\n",
    "        for j, digit in enumerate(line.strip()):\n",
    "            if digit != '.':\n",
    "                d[digit].append((i, j))"
   ]
  },
  {
   "cell_type": "markdown",
   "metadata": {},
   "source": [
    "Part 1"
   ]
  },
  {
   "cell_type": "code",
   "execution_count": 243,
   "metadata": {},
   "outputs": [
    {
     "name": "stdout",
     "output_type": "stream",
     "text": [
      "p1 = 323.\n"
     ]
    }
   ],
   "source": [
    "L = len(line.strip()) # length of the side of the square\n",
    "unique_antinodes_p1 = set()\n",
    "for v in d.values():\n",
    "    for p1, p2 in combinations(v, 2):\n",
    "        dr = (p2[0] - p1[0], p2[1] - p1[1]) # direction vector\n",
    "        p1n = (p1[0] - dr[0], p1[1] - dr[1]) # new-point-1\n",
    "        p2n = (p2[0] + dr[0], p2[1] + dr[1]) # new-point-2\n",
    "        if 0 <= p1n[0] < L and 0 <= p1n[1] < L: unique_antinodes_p1.add(p1n)\n",
    "        if 0 <= p2n[0] < L and 0 <= p2n[1] < L: unique_antinodes_p1.add(p2n)\n",
    "print(f'p1 = {len(unique_antinodes_p1)}.')"
   ]
  },
  {
   "cell_type": "markdown",
   "metadata": {},
   "source": [
    "Part 2"
   ]
  },
  {
   "cell_type": "code",
   "execution_count": 244,
   "metadata": {},
   "outputs": [
    {
     "name": "stdout",
     "output_type": "stream",
     "text": [
      "p2 = 1077.\n"
     ]
    }
   ],
   "source": [
    "unique_antinodes_p2 = set()\n",
    "for v in d.values():\n",
    "    for p1, p2 in combinations(v, 2):\n",
    "        unique_antinodes_p2.update([p1, p2])\n",
    "        dr = (p2[0] - p1[0], p2[1] - p1[1])\n",
    "        for i in range(1, L):\n",
    "            p1n = (p1[0] - dr[0] * i, p1[1] - dr[1] * i)\n",
    "            p2n = (p2[0] + dr[0] * i, p2[1] + dr[1] * i)\n",
    "            if 0 <= p1n[0] < L and 0 <= p1n[1] < L: unique_antinodes_p2.add(p1n)\n",
    "            if 0 <= p2n[0] < L and 0 <= p2n[1] < L: unique_antinodes_p2.add(p2n)\n",
    "            if not (0 <= p1n[0] < L and 0 <= p1n[1] < L) and not (0 <= p2n[0] < L and 0 <= p2n[1] < L): break\n",
    "print(f'p2 = {len(unique_antinodes_p2)}.')"
   ]
  }
 ],
 "metadata": {
  "kernelspec": {
   "display_name": "aoc_venv",
   "language": "python",
   "name": "python3"
  },
  "language_info": {
   "codemirror_mode": {
    "name": "ipython",
    "version": 3
   },
   "file_extension": ".py",
   "mimetype": "text/x-python",
   "name": "python",
   "nbconvert_exporter": "python",
   "pygments_lexer": "ipython3",
   "version": "3.11.5"
  }
 },
 "nbformat": 4,
 "nbformat_minor": 2
}
