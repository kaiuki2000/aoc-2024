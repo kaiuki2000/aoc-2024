{
 "cells": [
  {
   "cell_type": "markdown",
   "metadata": {},
   "source": [
    "Part 1"
   ]
  },
  {
   "cell_type": "code",
   "execution_count": 450,
   "metadata": {},
   "outputs": [],
   "source": [
    "with open('input.txt', 'r') as f:\n",
    "    reports = [line.split() for line in f]\n",
    "reports = [[int(x) for x in line] for line in reports]"
   ]
  },
  {
   "cell_type": "code",
   "execution_count": 451,
   "metadata": {},
   "outputs": [
    {
     "name": "stdout",
     "output_type": "stream",
     "text": [
      "442\n"
     ]
    }
   ],
   "source": [
    "def is_safe(r):\n",
    "    diff = [r[i+1] - r[i] for i in range(len(r)-1)]\n",
    "    c1 = all([d > 0 for d in diff]) or all([d < 0 for d in diff]) # Criteria 1 - all differences are positive or negative\n",
    "    c2 = all([abs(d) < 4 for d in diff]) # Criteria 2 - all differences are less than 4\n",
    "    if(c1 and c2): return True\n",
    "    else: return False\n",
    "    \n",
    "n_s = sum([is_safe(r) for r in reports])\n",
    "print(n_s)"
   ]
  },
  {
   "cell_type": "markdown",
   "metadata": {},
   "source": [
    "Part 2"
   ]
  },
  {
   "cell_type": "markdown",
   "metadata": {},
   "source": [
    "Ooga booga (*aka* brute force):"
   ]
  },
  {
   "cell_type": "code",
   "execution_count": 452,
   "metadata": {},
   "outputs": [
    {
     "name": "stdout",
     "output_type": "stream",
     "text": [
      "493\n"
     ]
    }
   ],
   "source": [
    "def pd_is_safe(r):\n",
    "    if(is_safe(r=r)): return True\n",
    "    for i in range(len(r)):\n",
    "        rt = r[:i] + r[i+1:] # Remove the element at index i\n",
    "        if(is_safe(r=rt)): return True\n",
    "        else: pass\n",
    "    return False\n",
    "\n",
    "n_pd_s = sum([pd_is_safe(r) for r in reports])\n",
    "print(n_pd_s)"
   ]
  },
  {
   "cell_type": "markdown",
   "metadata": {},
   "source": [
    "Less Ooga booga (*aka* slightly optimized brute force):"
   ]
  },
  {
   "cell_type": "code",
   "execution_count": 453,
   "metadata": {},
   "outputs": [],
   "source": [
    "def pi_finder(r):\n",
    "    \"\"\"\n",
    "    Finds the indices of the peaks, plateaus and sharp changes in the report.\n",
    "    (These are classified as the points of interest - 'pi'.)\n",
    "    \"\"\"\n",
    "    # Plateaus\n",
    "    def plateau_finder(r):\n",
    "        p = []\n",
    "        for i in range(0, len(r)-1):\n",
    "            if (r[i+1] == r[i]):\n",
    "                p.append(i)\n",
    "        return p\n",
    "    \n",
    "    # Peaks\n",
    "    def peak_finder(r):\n",
    "        p = []\n",
    "        for i in range(1, len(r)-1):\n",
    "            if(r[i] > r[i-1] and r[i] > r[i+1]) or (r[i] < r[i-1] and r[i] < r[i+1]):\n",
    "                p.extend([i-1, i, i+1])\n",
    "        return p\n",
    "    \n",
    "    # Sharp changes\n",
    "    def sharp_change_finder(r):\n",
    "        p = []\n",
    "        for i in range(1, len(r)-1):\n",
    "            if(abs(r[i+1] - r[i]) > 3 or abs(r[i-1] - r[i]) > 3):\n",
    "                p.extend([i-1, i, i+1])\n",
    "        return p\n",
    "    \n",
    "    # Return the set of all points of interest\n",
    "    pk = peak_finder(r)\n",
    "    pl = plateau_finder(r)\n",
    "    sc = sharp_change_finder(r)\n",
    "    return set(pk + pl + sc)"
   ]
  },
  {
   "cell_type": "code",
   "execution_count": 454,
   "metadata": {},
   "outputs": [
    {
     "name": "stdout",
     "output_type": "stream",
     "text": [
      "493\n"
     ]
    }
   ],
   "source": [
    "def pd_is_safe(r):\n",
    "    pi = pi_finder(r)\n",
    "    if(len(pi) == 0): return is_safe(r=r)\n",
    "    for i in pi:\n",
    "        rt = r[:i] + r[i+1:] # Remove the element at index i\n",
    "        if(is_safe(r=rt)): return True\n",
    "        else: pass\n",
    "    return False\n",
    "\n",
    "n_pd_s = sum([pd_is_safe(r) for r in reports])\n",
    "print(n_pd_s)"
   ]
  }
 ],
 "metadata": {
  "kernelspec": {
   "display_name": "aoc_venv",
   "language": "python",
   "name": "python3"
  },
  "language_info": {
   "codemirror_mode": {
    "name": "ipython",
    "version": 3
   },
   "file_extension": ".py",
   "mimetype": "text/x-python",
   "name": "python",
   "nbconvert_exporter": "python",
   "pygments_lexer": "ipython3",
   "version": "3.11.5"
  }
 },
 "nbformat": 4,
 "nbformat_minor": 2
}
