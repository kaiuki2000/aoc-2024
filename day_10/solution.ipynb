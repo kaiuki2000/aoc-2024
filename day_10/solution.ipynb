{
 "cells": [
  {
   "cell_type": "markdown",
   "metadata": {},
   "source": [
    "Auxiliary function(s):"
   ]
  },
  {
   "cell_type": "code",
   "execution_count": 301,
   "metadata": {},
   "outputs": [],
   "source": [
    "# Get adjecent cells of a cell in a matrix\n",
    "def get_adjacent(matrix, i, j):\n",
    "    adjacent = []\n",
    "    if i > 0:\n",
    "        adjacent.append((i-1, j))\n",
    "    if i < len(matrix) - 1:\n",
    "        adjacent.append((i+1, j))\n",
    "    if j > 0:\n",
    "        adjacent.append((i, j-1))\n",
    "    if j < len(matrix[i]) - 1:\n",
    "        adjacent.append((i, j+1))\n",
    "    return adjacent"
   ]
  },
  {
   "cell_type": "markdown",
   "metadata": {},
   "source": [
    "Part 1/2"
   ]
  },
  {
   "cell_type": "code",
   "execution_count": 302,
   "metadata": {},
   "outputs": [
    {
     "name": "stdout",
     "output_type": "stream",
     "text": [
      "p1: 611;\n",
      "p2: 1380.\n"
     ]
    }
   ],
   "source": [
    "# Read the input\n",
    "with open('input.txt') as f:\n",
    "    # data = [[int(x) if x != '.' else '.' for x in line[0]] for line in [line.split() for line in f]] # Changed for example: '.'\n",
    "    data = [[int(x) for x in line[0]] for line in [line.split() for line in f]] # Changed for example: '.'\n",
    "trailheads = [[i, j] for i in range(len(data)) for j in range(len(data[i])) if data[i][j] == 0]\n",
    "\n",
    "def get_trails_f_pos(matrix, trailheads, i=0):\n",
    "    \"\"\"\n",
    "    Returns the final positions of the trails.\n",
    "    \"\"\"\n",
    "    new_positions = [\n",
    "        r for m, n in trailheads\n",
    "        for r in get_adjacent(matrix, m, n)\n",
    "        if matrix[r[0]][r[1]] == i + 1\n",
    "    ]\n",
    "    return new_positions if i == 8 else get_trails_f_pos(matrix, new_positions, i + 1)\n",
    "\n",
    "f_pos = [get_trails_f_pos(data, [trailhead]) for trailhead in trailheads]\n",
    "p1 = sum(len(set(f_pos[i])) for i in range(len(f_pos)))\n",
    "p2 = sum(len(f_pos[i]) for i in range(len(f_pos)))\n",
    "print(f'p1: {p1};\\np2: {p2}.')"
   ]
  }
 ],
 "metadata": {
  "kernelspec": {
   "display_name": "aoc_venv",
   "language": "python",
   "name": "python3"
  },
  "language_info": {
   "codemirror_mode": {
    "name": "ipython",
    "version": 3
   },
   "file_extension": ".py",
   "mimetype": "text/x-python",
   "name": "python",
   "nbconvert_exporter": "python",
   "pygments_lexer": "ipython3",
   "version": "3.11.5"
  }
 },
 "nbformat": 4,
 "nbformat_minor": 2
}
