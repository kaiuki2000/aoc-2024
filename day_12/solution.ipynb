{
 "cells": [
  {
   "cell_type": "markdown",
   "metadata": {},
   "source": [
    "Auxiliary function(s):"
   ]
  },
  {
   "cell_type": "code",
   "execution_count": 5,
   "metadata": {},
   "outputs": [],
   "source": [
    "# Get adjecent plants of a plant in a matrix\n",
    "def get_adjacent(matrix, i, j):\n",
    "    L1, L2 = len(matrix), len(matrix[0])\n",
    "    adjacent = []\n",
    "    if i > 0:\n",
    "        adjacent.append((i-1, j))\n",
    "    if i < L1 - 1:\n",
    "        adjacent.append((i+1, j))\n",
    "    if j > 0:\n",
    "        adjacent.append((i, j-1))\n",
    "    if j < L2 - 1:\n",
    "        adjacent.append((i, j+1))\n",
    "    return adjacent"
   ]
  },
  {
   "cell_type": "markdown",
   "metadata": {},
   "source": [
    "Part 1"
   ]
  },
  {
   "cell_type": "code",
   "execution_count": 6,
   "metadata": {},
   "outputs": [],
   "source": [
    "# Read data from file\n",
    "with open('input.txt') as f:\n",
    "    matrix = [[[char, '-'] for char in line.strip()] for line in f]\n",
    "L1, L2 = len(matrix), len(matrix[0])"
   ]
  },
  {
   "cell_type": "code",
   "execution_count": 7,
   "metadata": {},
   "outputs": [
    {
     "name": "stdout",
     "output_type": "stream",
     "text": [
      "Part 1: 1304764\n"
     ]
    }
   ],
   "source": [
    "def mark_group(matrix, i, j, group_value):\n",
    "    \"\"\"Mark all cells belonging to the same group starting from (i, j).\"\"\"\n",
    "    group = [(i, j)]\n",
    "    matrix[i][j][1] = '+'  # Mark as part of a group\n",
    "    valid_adjacent_indices = [P for P in get_adjacent(matrix, i, j) \n",
    "                              if matrix[P[0]][P[1]][0] == group_value and matrix[P[0]][P[1]][1] == '-']\n",
    "    \n",
    "    while valid_adjacent_indices:\n",
    "        for ind in valid_adjacent_indices:\n",
    "            matrix[ind[0]][ind[1]][1] = '+'\n",
    "            group.append(ind)\n",
    "        valid_adjacent_indices = list(set([P for ind in group \n",
    "                                           for P in get_adjacent(matrix, ind[0], ind[1]) \n",
    "                                           if matrix[P[0]][P[1]][0] == group_value and matrix[P[0]][P[1]][1] == '-']))\n",
    "    return group\n",
    "\n",
    "def calculate_perimeter(group, matrix):\n",
    "    \"\"\"Calculate the perimeter of a group.\"\"\"\n",
    "    perimeter = 0\n",
    "    for plant in group:\n",
    "        adjacent_count = sum(1 for adj_plant in get_adjacent(matrix, plant[0], plant[1]) if adj_plant in group)\n",
    "        perimeter += 4 - adjacent_count  # Number of adjacent plants that are not part of the group\n",
    "    return perimeter\n",
    "\n",
    "def calculate_area(group):\n",
    "    \"\"\"Calculate the area of a group.\"\"\"\n",
    "    return len(group)\n",
    "\n",
    "# Main logic to obtain groups, perimeters, and areas\n",
    "groups, perimeters, areas = [], [], []\n",
    "for i in range(L1):\n",
    "    for j in range(L2):\n",
    "        if matrix[i][j][1] == '-':  # Unmarked, i.e., doesn't belong to any group\n",
    "            group_value = matrix[i][j][0]\n",
    "            group = mark_group(matrix, i, j, group_value)\n",
    "            groups.append(group)\n",
    "            perimeters.append(calculate_perimeter(group, matrix))\n",
    "            areas.append(calculate_area(group))\n",
    "\n",
    "# Calculate the result for Part 1\n",
    "p1 = sum(perimeter * area for perimeter, area in zip(perimeters, areas))\n",
    "print(f'Part 1: {p1}')"
   ]
  },
  {
   "cell_type": "markdown",
   "metadata": {},
   "source": [
    "Part 2"
   ]
  },
  {
   "cell_type": "code",
   "execution_count": 8,
   "metadata": {},
   "outputs": [
    {
     "name": "stdout",
     "output_type": "stream",
     "text": [
      "Part 2: 811148\n"
     ]
    }
   ],
   "source": [
    "group_sides = []\n",
    "\n",
    "def count_sides(matrix, group, group_value, direction):\n",
    "    \"\"\"Count the number of sides of a group in a given direction.\"\"\"\n",
    "    n_sides = 0\n",
    "    if direction in ['down', 'up']:\n",
    "        for i in range(L1):\n",
    "            flag = False\n",
    "            for j in range(L2):\n",
    "                if direction == 'down' and i > 0:\n",
    "                    condition = matrix[i][j][0] == group_value and matrix[i-1][j][0] != group_value and (i, j) in group\n",
    "                elif direction == 'up' and i < L1-1:\n",
    "                    condition = matrix[i][j][0] == group_value and matrix[i+1][j][0] != group_value and (i, j) in group\n",
    "                else:\n",
    "                    condition = matrix[i][j][0] == group_value and (i, j) in group\n",
    "                \n",
    "                if condition:\n",
    "                    if not flag:\n",
    "                        n_sides += 1\n",
    "                    flag = True\n",
    "                else:\n",
    "                    flag = False\n",
    "    elif direction in ['right', 'left']:\n",
    "        for j in range(L2):\n",
    "            flag = False\n",
    "            for i in range(L1):\n",
    "                if direction == 'right' and j > 0:\n",
    "                    condition = matrix[i][j][0] == group_value and matrix[i][j-1][0] != group_value and (i, j) in group\n",
    "                elif direction == 'left' and j < L2-1:\n",
    "                    condition = matrix[i][j][0] == group_value and matrix[i][j+1][0] != group_value and (i, j) in group\n",
    "                else:\n",
    "                    condition = matrix[i][j][0] == group_value and (i, j) in group\n",
    "                \n",
    "                if condition:\n",
    "                    if not flag:\n",
    "                        n_sides += 1\n",
    "                    flag = True\n",
    "                else:\n",
    "                    flag = False\n",
    "    return n_sides\n",
    "\n",
    "for group in groups:\n",
    "    group_value = matrix[group[0][0]][group[0][1]][0]\n",
    "    n_sides = 0\n",
    "    for direction in ['down', 'up', 'right', 'left']:\n",
    "        n_sides += count_sides(matrix, group, group_value, direction)\n",
    "    group_sides.append(n_sides)\n",
    "\n",
    "p2 = sum(x * y for x, y in zip(group_sides, areas))\n",
    "print(f'Part 2: {p2}')\n"
   ]
  },
  {
   "cell_type": "markdown",
   "metadata": {},
   "source": [
    "Illustration of the method(s) used in the solution:\n",
    "\n",
    "<img src=\"method.jpeg\" alt=\"drawing\" width=\"400\"/>"
   ]
  }
 ],
 "metadata": {
  "kernelspec": {
   "display_name": "aoc_venv",
   "language": "python",
   "name": "python3"
  },
  "language_info": {
   "codemirror_mode": {
    "name": "ipython",
    "version": 3
   },
   "file_extension": ".py",
   "mimetype": "text/x-python",
   "name": "python",
   "nbconvert_exporter": "python",
   "pygments_lexer": "ipython3",
   "version": "3.11.5"
  }
 },
 "nbformat": 4,
 "nbformat_minor": 2
}
